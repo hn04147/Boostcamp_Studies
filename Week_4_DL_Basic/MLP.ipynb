{
 "cells": [
  {
   "cell_type": "code",
   "execution_count": 1,
   "id": "ea5c2529",
   "metadata": {},
   "outputs": [
    {
     "name": "stdout",
     "output_type": "stream",
     "text": [
      "PyTorch version: 1.4.0\n",
      "device: cpu\n"
     ]
    }
   ],
   "source": [
    "import numpy as np\n",
    "import matplotlib.pyplot as plt\n",
    "import torch\n",
    "import torch.nn as nn\n",
    "import torch.optim as optim\n",
    "import torch.nn.functional as F\n",
    "%matplotlib inline\n",
    "%config InlineBackend.figure_format='retina'\n",
    "\n",
    "print(f'PyTorch version: {torch.__version__}')\n",
    "device = torch.device('cuda:0' if torch.cuda.is_available() else 'cpu')\n",
    "print(f'device: {device}')"
   ]
  },
  {
   "cell_type": "code",
   "execution_count": 5,
   "id": "41457da3",
   "metadata": {},
   "outputs": [
    {
     "name": "stdout",
     "output_type": "stream",
     "text": [
      "mnist_train: \n",
      " Dataset MNIST\n",
      "    Number of datapoints: 60000\n",
      "    Root location: ./data/\n",
      "    Split: Train\n",
      "    StandardTransform\n",
      "Transform: ToTensor() \n",
      "\n",
      "mnist_test: \n",
      " Dataset MNIST\n",
      "    Number of datapoints: 10000\n",
      "    Root location: ./data/\n",
      "    Split: Test\n",
      "    StandardTransform\n",
      "Transform: ToTensor() \n",
      "\n",
      "Done.\n"
     ]
    }
   ],
   "source": [
    "from torchvision import datasets, transforms\n",
    "mnist_train = datasets.MNIST(root='./data/', train=True, transform=transforms.ToTensor(), download=True)\n",
    "mnist_test = datasets.MNIST(root='./data/', train=False, transform=transforms.ToTensor(), download=True)\n",
    "print('mnist_train: \\n', mnist_train, '\\n')\n",
    "print('mnist_test: \\n', mnist_test, '\\n')\n",
    "print('Done.')"
   ]
  },
  {
   "cell_type": "markdown",
   "id": "3ce23fd8",
   "metadata": {},
   "source": [
    "### Data Iterator"
   ]
  },
  {
   "cell_type": "code",
   "execution_count": 6,
   "id": "a05492b8",
   "metadata": {},
   "outputs": [
    {
     "name": "stdout",
     "output_type": "stream",
     "text": [
      "Done.\n"
     ]
    }
   ],
   "source": [
    "BATCH_SIZE = 256\n",
    "train_iter = torch.utils.data.DataLoader(mnist_train, batch_size=BATCH_SIZE, shuffle=True, num_workers=1)\n",
    "test_iter = torch.utils.data.DataLoader(mnist_test, batch_size=BATCH_SIZE, shuffle=True, num_workers=1)\n",
    "print('Done.')"
   ]
  },
  {
   "cell_type": "markdown",
   "id": "f034ea95",
   "metadata": {},
   "source": [
    "### Define the MLP Model"
   ]
  },
  {
   "cell_type": "code",
   "execution_count": 8,
   "id": "60e29288",
   "metadata": {},
   "outputs": [
    {
     "name": "stdout",
     "output_type": "stream",
     "text": [
      "Done.\n"
     ]
    }
   ],
   "source": [
    "class MultiLayerPerceptronClass(nn.Module):\n",
    "    \"\"\"\n",
    "        Multilayer Perceptron (MLP) Class\n",
    "    \"\"\"\n",
    "    def __init__(self, name='mlp', xdim=784, hdim=256, ydim=10):\n",
    "        super(MultiLayerPerceptronClass, self).__init__()\n",
    "        self.name = name\n",
    "        self.xdim = xdim  # input dimension\n",
    "        self.hdim = hdim  # hidden dimension\n",
    "        self.ydim = ydim  # output dimension\n",
    "        self.lin_1 = nn.Linear(self.xdim, self.hdim)\n",
    "        self.lin_2 = nn.Linear(self.hdim, self.ydim)\n",
    "        self.init_param() # initialize parameters\n",
    "        \n",
    "    def init_param(self):\n",
    "        nn.init.kaiming_normal_(self.lin_1.weight)\n",
    "        nn.init.zeros_(self.lin_1.bias)\n",
    "        nn.init.kaiming_normal_(self.lin_2.weight)\n",
    "        nn.init.zeros_(self.lin_2.bias)\n",
    "\n",
    "    def forward(self,x):\n",
    "        net = x\n",
    "        net = self.lin_1(net)\n",
    "        net = F.relu(net)\n",
    "        net = self.lin_2(net)\n",
    "        return net\n",
    "\n",
    "M = MultiLayerPerceptronClass(name='mlp', xdim=784, hdim=256, ydim=10).to(device)\n",
    "loss = nn.CrossEntropyLoss()\n",
    "optm = optim.Adam(M.parameters(), lr=1e-3)\n",
    "print (\"Done.\")"
   ]
  },
  {
   "cell_type": "markdown",
   "id": "8df676de",
   "metadata": {},
   "source": [
    "### Simple Forward Path of the MLP Model"
   ]
  },
  {
   "cell_type": "code",
   "execution_count": 20,
   "id": "a6edf090",
   "metadata": {
    "scrolled": true
   },
   "outputs": [
    {
     "name": "stdout",
     "output_type": "stream",
     "text": [
      "x_numpy.shape: (2, 784), x_numpy:\n",
      " [[0.77696737 0.01770706 0.32752356 ... 0.16274686 0.10467255 0.59204009]\n",
      " [0.24748931 0.6546377  0.89122125 ... 0.08379181 0.68923563 0.07489886]]\n",
      "x_torch.shape: torch.Size([2, 784]), x_torch:\n",
      " tensor([[0.7770, 0.0177, 0.3275,  ..., 0.1627, 0.1047, 0.5920],\n",
      "        [0.2475, 0.6546, 0.8912,  ..., 0.0838, 0.6892, 0.0749]])\n",
      "y_torch.shape: torch.Size([2, 10]), y_torch:\n",
      " tensor([[ 0.7672, -0.5249, -0.5443,  1.2864, -0.6853,  0.4241, -0.6154, -1.0840,\n",
      "          0.4211,  0.6596],\n",
      "        [-0.1008, -0.5959,  0.2235,  1.7850, -0.3799,  0.0875, -1.0897, -0.9124,\n",
      "         -0.8170,  1.9855]], grad_fn=<AddmmBackward>)\n",
      "y_numpy.shape: (2, 10), y_numpy:\n",
      " [[ 0.7671851  -0.52489775 -0.5443175   1.2864432  -0.6852926   0.42408165\n",
      "  -0.61541295 -1.083994    0.42110232  0.6596349 ]\n",
      " [-0.10079768 -0.595877    0.2234876   1.7850308  -0.3798806   0.08748034\n",
      "  -1.0897478  -0.9123598  -0.81698096  1.9855044 ]]\n"
     ]
    }
   ],
   "source": [
    "x_numpy = np.random.rand(2, 784)\n",
    "x_torch = torch.from_numpy(x_numpy).float().to(device)\n",
    "y_torch = M.forward(x_torch)  # forward 명시해주는게 코드 읽을 때 편함. 최대한 forward 명시할 것\n",
    "# y_torch = M(x_torch)  # M.forward 안해줘도 자동으로 돌아감\n",
    "y_numpy = y_torch.detach().cpu().numpy()\n",
    "\n",
    "print(f'x_numpy.shape: {x_numpy.shape}, x_numpy:\\n', x_numpy)\n",
    "print(f'x_torch.shape: {x_torch.shape}, x_torch:\\n', x_torch)\n",
    "print(f'y_torch.shape: {y_torch.shape}, y_torch:\\n', y_torch)\n",
    "print(f'y_numpy.shape: {y_numpy.shape}, y_numpy:\\n', y_numpy)"
   ]
  },
  {
   "cell_type": "markdown",
   "id": "d022786b",
   "metadata": {},
   "source": [
    "### Check Parameters"
   ]
  },
  {
   "cell_type": "code",
   "execution_count": 22,
   "id": "d52a59e6",
   "metadata": {},
   "outputs": [
    {
     "name": "stdout",
     "output_type": "stream",
     "text": [
      "0 name: lin_1.weight shape: (256, 784)\n",
      "    value: [ 0.027 -0.063 -0.024 -0.009  0.034]\n",
      "1 name: lin_1.bias shape: (256,)\n",
      "    value: [0. 0. 0. 0. 0.]\n",
      "2 name: lin_2.weight shape: (10, 256)\n",
      "    value: [ 0.157 -0.081  0.056 -0.031  0.111]\n",
      "3 name: lin_2.bias shape: (10,)\n",
      "    value: [0. 0. 0. 0. 0.]\n",
      "Total number of parameters:[203,530].\n"
     ]
    }
   ],
   "source": [
    "np.set_printoptions(precision=3)\n",
    "n_param = 0\n",
    "for p_idx, (param_name, param) in enumerate(M.named_parameters()):\n",
    "    param_numpy = param.detach().cpu().numpy()\n",
    "    n_param += len(param_numpy.reshape(-1))\n",
    "    print(f'{p_idx} name: {param_name} shape: {param_numpy.shape}')\n",
    "    print(f'    value: {param_numpy.reshape(-1)[:5]}')\n",
    "print(\"Total number of parameters:[%s].\"%(format(n_param,',d')))"
   ]
  },
  {
   "cell_type": "markdown",
   "id": "1e2a1828",
   "metadata": {},
   "source": [
    "## Evaluation Function"
   ]
  },
  {
   "cell_type": "code",
   "execution_count": 23,
   "id": "565dea84",
   "metadata": {},
   "outputs": [
    {
     "name": "stdout",
     "output_type": "stream",
     "text": [
      "Done\n"
     ]
    }
   ],
   "source": [
    "def func_eval(model, data_iter, device):\n",
    "    with torch.no_grad():\n",
    "        model.eval()\n",
    "        n_total, n_correct = 0, 0\n",
    "        for batch_in, batch_out in data_iter:\n",
    "            y_trgt = batch_out.to(device)\n",
    "            model_pred = model(batch_in.view(-1, 28*28).to(device))\n",
    "            _, y_pred = torch.max(model_pred.data, 1)\n",
    "            n_correct += (y_pred == y_trgt).sum().item()\n",
    "            n_total += batch_in.size(0)\n",
    "        val_accr = n_correct / n_total\n",
    "        model.train()\n",
    "    return val_accr\n",
    "print('Done')"
   ]
  },
  {
   "cell_type": "markdown",
   "id": "87311f82",
   "metadata": {},
   "source": [
    "## Initial Evaluation"
   ]
  },
  {
   "cell_type": "code",
   "execution_count": 30,
   "id": "cdeb2a61",
   "metadata": {},
   "outputs": [
    {
     "name": "stdout",
     "output_type": "stream",
     "text": [
      "train_accr:[0.091] test_accr:[0.089].\n"
     ]
    }
   ],
   "source": [
    "M.init_param() # initialize parameters\n",
    "train_accr = func_eval(M,train_iter,device)\n",
    "test_accr = func_eval(M,test_iter,device)\n",
    "print (\"train_accr:[%.3f] test_accr:[%.3f].\"%(train_accr,test_accr))"
   ]
  },
  {
   "cell_type": "markdown",
   "id": "e4175e7d",
   "metadata": {},
   "source": [
    "## Train"
   ]
  },
  {
   "cell_type": "code",
   "execution_count": 31,
   "id": "f79075ad",
   "metadata": {},
   "outputs": [
    {
     "name": "stdout",
     "output_type": "stream",
     "text": [
      "Start training.\n",
      "epoch:[0] loss:[0.382] train_accr:[0.941] test_accr:[0.939].\n",
      "epoch:[1] loss:[0.172] train_accr:[0.964] test_accr:[0.960].\n",
      "epoch:[2] loss:[0.120] train_accr:[0.974] test_accr:[0.967].\n",
      "epoch:[3] loss:[0.091] train_accr:[0.981] test_accr:[0.973].\n",
      "epoch:[4] loss:[0.072] train_accr:[0.984] test_accr:[0.974].\n",
      "epoch:[5] loss:[0.059] train_accr:[0.988] test_accr:[0.976].\n",
      "epoch:[6] loss:[0.049] train_accr:[0.989] test_accr:[0.978].\n",
      "epoch:[7] loss:[0.041] train_accr:[0.992] test_accr:[0.978].\n",
      "epoch:[8] loss:[0.034] train_accr:[0.994] test_accr:[0.979].\n",
      "epoch:[9] loss:[0.029] train_accr:[0.995] test_accr:[0.980].\n",
      "Done\n"
     ]
    }
   ],
   "source": [
    "print (\"Start training.\")\n",
    "M.init_param() # initialize parameters\n",
    "M.train()\n",
    "EPOCHS,print_every = 10,1\n",
    "for epoch in range(EPOCHS):\n",
    "    loss_val_sum = 0\n",
    "    for batch_in,batch_out in train_iter:\n",
    "        # Forward path\n",
    "        y_pred = M.forward(batch_in.view(-1, 28*28).to(device))\n",
    "        loss_out = loss(y_pred,batch_out.to(device))\n",
    "        # Update\n",
    "        optm.zero_grad()      # reset gradient \n",
    "        loss_out.backward()      # backpropagate\n",
    "        optm.step()      # optimizer update\n",
    "        loss_val_sum += loss_out\n",
    "    loss_val_avg = loss_val_sum/len(train_iter)\n",
    "    # Print\n",
    "    if ((epoch%print_every)==0) or (epoch==(EPOCHS-1)):\n",
    "        train_accr = func_eval(M,train_iter,device)\n",
    "        test_accr = func_eval(M,test_iter,device)\n",
    "        print (\"epoch:[%d] loss:[%.3f] train_accr:[%.3f] test_accr:[%.3f].\"%\n",
    "               (epoch,loss_val_avg,train_accr,test_accr))\n",
    "print (\"Done\")    "
   ]
  },
  {
   "cell_type": "markdown",
   "id": "e11c930e",
   "metadata": {},
   "source": [
    "## Test"
   ]
  },
  {
   "cell_type": "code",
   "execution_count": 33,
   "id": "0997699f",
   "metadata": {},
   "outputs": [
    {
     "data": {
      "image/png": "[encoded data removed]",
      "text/plain": [
       "<Figure size 720x720 with 25 Axes>"
      ]
     },
     "metadata": {
      "image/png": {
       "height": 573,
       "width": 569
      },
      "needs_background": "light"
     },
     "output_type": "display_data"
    },
    {
     "name": "stdout",
     "output_type": "stream",
     "text": [
      "Done\n"
     ]
    }
   ],
   "source": [
    "n_sample = 25\n",
    "sample_indices = np.random.choice(len(mnist_test.targets), n_sample, replace=False)\n",
    "test_x = mnist_test.data[sample_indices]\n",
    "test_y = mnist_test.targets[sample_indices]\n",
    "with torch.no_grad():\n",
    "    y_pred = M.forward(test_x.view(-1, 28*28).type(torch.float).to(device)/255.)\n",
    "y_pred = y_pred.argmax(axis=1)\n",
    "plt.figure(figsize=(10,10))\n",
    "for idx in range(n_sample):\n",
    "    plt.subplot(5, 5, idx+1)\n",
    "    plt.imshow(test_x[idx], cmap='gray')\n",
    "    plt.axis('off')\n",
    "    plt.title(\"Pred:%d, Label:%d\"%(y_pred[idx],test_y[idx]))\n",
    "plt.show()    \n",
    "print (\"Done\")"
   ]
  }
 ],
 "metadata": {
  "kernelspec": {
   "display_name": "Python 3",
   "language": "python",
   "name": "python3"
  },
  "language_info": {
   "codemirror_mode": {
    "name": "ipython",
    "version": 3
   },
   "file_extension": ".py",
   "mimetype": "text/x-python",
   "name": "python",
   "nbconvert_exporter": "python",
   "pygments_lexer": "ipython3",
   "version": "3.8.8"
  }
 },
 "nbformat": 4,
 "nbformat_minor": 5
}
