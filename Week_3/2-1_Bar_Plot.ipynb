{
 "cells": [
  {
   "cell_type": "code",
   "execution_count": 1,
   "id": "a1753bcf",
   "metadata": {},
   "outputs": [],
   "source": [
    "import numpy as np\n",
    "import pandas as pd\n",
    "import matplotlib as mpl\n",
    "import matplotlib.pyplot as plt"
   ]
  },
  {
   "cell_type": "code",
   "execution_count": 4,
   "id": "cd83fc56",
   "metadata": {},
   "outputs": [
    {
     "data": {
      "image/png": "[encoded data removed]",
      "text/plain": [
       "<Figure size 864x504 with 2 Axes>"
      ]
     },
     "metadata": {
      "needs_background": "light"
     },
     "output_type": "display_data"
    }
   ],
   "source": [
    "fig, axes = plt.subplots(1, 2, figsize=(12, 7))\n",
    "\n",
    "x = list('ABCDE')\n",
    "y = np.array([1, 2, 3, 4, 5])\n",
    "\n",
    "axes[0].bar(x, y)\n",
    "axes[1].barh(x, y)\n",
    "\n",
    "plt.show()"
   ]
  },
  {
   "cell_type": "markdown",
   "id": "e5e54c30",
   "metadata": {},
   "source": [
    "# 실제 데이터로 다양한 bar plot 그려보기"
   ]
  },
  {
   "cell_type": "code",
   "execution_count": 9,
   "id": "94a327fb",
   "metadata": {},
   "outputs": [
    {
     "data": {
      "text/html": [
       "<div>\n",
       "<style scoped>\n",
       "    .dataframe tbody tr th:only-of-type {\n",
       "        vertical-align: middle;\n",
       "    }\n",
       "\n",
       "    .dataframe tbody tr th {\n",
       "        vertical-align: top;\n",
       "    }\n",
       "\n",
       "    .dataframe thead th {\n",
       "        text-align: right;\n",
       "    }\n",
       "</style>\n",
       "<table border=\"1\" class=\"dataframe\">\n",
       "  <thead>\n",
       "    <tr style=\"text-align: right;\">\n",
       "      <th></th>\n",
       "      <th>gender</th>\n",
       "      <th>race/ethnicity</th>\n",
       "      <th>parental level of education</th>\n",
       "      <th>lunch</th>\n",
       "      <th>test preparation course</th>\n",
       "      <th>math score</th>\n",
       "      <th>reading score</th>\n",
       "      <th>writing score</th>\n",
       "    </tr>\n",
       "  </thead>\n",
       "  <tbody>\n",
       "    <tr>\n",
       "      <th>827</th>\n",
       "      <td>female</td>\n",
       "      <td>group C</td>\n",
       "      <td>some high school</td>\n",
       "      <td>standard</td>\n",
       "      <td>none</td>\n",
       "      <td>65</td>\n",
       "      <td>69</td>\n",
       "      <td>76</td>\n",
       "    </tr>\n",
       "    <tr>\n",
       "      <th>892</th>\n",
       "      <td>female</td>\n",
       "      <td>group A</td>\n",
       "      <td>master's degree</td>\n",
       "      <td>free/reduced</td>\n",
       "      <td>none</td>\n",
       "      <td>50</td>\n",
       "      <td>67</td>\n",
       "      <td>73</td>\n",
       "    </tr>\n",
       "    <tr>\n",
       "      <th>841</th>\n",
       "      <td>male</td>\n",
       "      <td>group C</td>\n",
       "      <td>some high school</td>\n",
       "      <td>standard</td>\n",
       "      <td>none</td>\n",
       "      <td>64</td>\n",
       "      <td>58</td>\n",
       "      <td>51</td>\n",
       "    </tr>\n",
       "    <tr>\n",
       "      <th>731</th>\n",
       "      <td>male</td>\n",
       "      <td>group A</td>\n",
       "      <td>some high school</td>\n",
       "      <td>free/reduced</td>\n",
       "      <td>none</td>\n",
       "      <td>55</td>\n",
       "      <td>46</td>\n",
       "      <td>43</td>\n",
       "    </tr>\n",
       "    <tr>\n",
       "      <th>615</th>\n",
       "      <td>female</td>\n",
       "      <td>group C</td>\n",
       "      <td>high school</td>\n",
       "      <td>standard</td>\n",
       "      <td>none</td>\n",
       "      <td>60</td>\n",
       "      <td>68</td>\n",
       "      <td>72</td>\n",
       "    </tr>\n",
       "    <tr>\n",
       "      <th>333</th>\n",
       "      <td>male</td>\n",
       "      <td>group B</td>\n",
       "      <td>associate's degree</td>\n",
       "      <td>standard</td>\n",
       "      <td>none</td>\n",
       "      <td>90</td>\n",
       "      <td>78</td>\n",
       "      <td>81</td>\n",
       "    </tr>\n",
       "    <tr>\n",
       "      <th>749</th>\n",
       "      <td>male</td>\n",
       "      <td>group B</td>\n",
       "      <td>some college</td>\n",
       "      <td>standard</td>\n",
       "      <td>completed</td>\n",
       "      <td>87</td>\n",
       "      <td>84</td>\n",
       "      <td>86</td>\n",
       "    </tr>\n",
       "    <tr>\n",
       "      <th>850</th>\n",
       "      <td>male</td>\n",
       "      <td>group C</td>\n",
       "      <td>master's degree</td>\n",
       "      <td>standard</td>\n",
       "      <td>none</td>\n",
       "      <td>71</td>\n",
       "      <td>67</td>\n",
       "      <td>67</td>\n",
       "    </tr>\n",
       "    <tr>\n",
       "      <th>562</th>\n",
       "      <td>male</td>\n",
       "      <td>group C</td>\n",
       "      <td>bachelor's degree</td>\n",
       "      <td>standard</td>\n",
       "      <td>completed</td>\n",
       "      <td>96</td>\n",
       "      <td>90</td>\n",
       "      <td>92</td>\n",
       "    </tr>\n",
       "    <tr>\n",
       "      <th>133</th>\n",
       "      <td>female</td>\n",
       "      <td>group C</td>\n",
       "      <td>some college</td>\n",
       "      <td>standard</td>\n",
       "      <td>completed</td>\n",
       "      <td>75</td>\n",
       "      <td>81</td>\n",
       "      <td>84</td>\n",
       "    </tr>\n",
       "  </tbody>\n",
       "</table>\n",
       "</div>"
      ],
      "text/plain": [
       "     gender race/ethnicity parental level of education         lunch  \\\n",
       "827  female        group C            some high school      standard   \n",
       "892  female        group A             master's degree  free/reduced   \n",
       "841    male        group C            some high school      standard   \n",
       "731    male        group A            some high school  free/reduced   \n",
       "615  female        group C                 high school      standard   \n",
       "333    male        group B          associate's degree      standard   \n",
       "749    male        group B                some college      standard   \n",
       "850    male        group C             master's degree      standard   \n",
       "562    male        group C           bachelor's degree      standard   \n",
       "133  female        group C                some college      standard   \n",
       "\n",
       "    test preparation course  math score  reading score  writing score  \n",
       "827                    none          65             69             76  \n",
       "892                    none          50             67             73  \n",
       "841                    none          64             58             51  \n",
       "731                    none          55             46             43  \n",
       "615                    none          60             68             72  \n",
       "333                    none          90             78             81  \n",
       "749               completed          87             84             86  \n",
       "850                    none          71             67             67  \n",
       "562               completed          96             90             92  \n",
       "133               completed          75             81             84  "
      ]
     },
     "execution_count": 9,
     "metadata": {},
     "output_type": "execute_result"
    }
   ],
   "source": [
    "student = pd.read_csv('./StudentsPerformance.csv')\n",
    "# student.head()\n",
    "student.sample(10)    # sample로 데이터 확인하는것 선호"
   ]
  },
  {
   "cell_type": "code",
   "execution_count": 6,
   "id": "8cbf698d",
   "metadata": {},
   "outputs": [
    {
     "name": "stdout",
     "output_type": "stream",
     "text": [
      "<class 'pandas.core.frame.DataFrame'>\n",
      "RangeIndex: 1000 entries, 0 to 999\n",
      "Data columns (total 8 columns):\n",
      " #   Column                       Non-Null Count  Dtype \n",
      "---  ------                       --------------  ----- \n",
      " 0   gender                       1000 non-null   object\n",
      " 1   race/ethnicity               1000 non-null   object\n",
      " 2   parental level of education  1000 non-null   object\n",
      " 3   lunch                        1000 non-null   object\n",
      " 4   test preparation course      1000 non-null   object\n",
      " 5   math score                   1000 non-null   int64 \n",
      " 6   reading score                1000 non-null   int64 \n",
      " 7   writing score                1000 non-null   int64 \n",
      "dtypes: int64(3), object(5)\n",
      "memory usage: 62.6+ KB\n"
     ]
    }
   ],
   "source": [
    "student.info()    # 데이터에 null값이 있는지, 범주형인지 순서형인지 확인"
   ]
  },
  {
   "cell_type": "code",
   "execution_count": 7,
   "id": "59d39326",
   "metadata": {},
   "outputs": [
    {
     "data": {
      "text/html": [
       "<div>\n",
       "<style scoped>\n",
       "    .dataframe tbody tr th:only-of-type {\n",
       "        vertical-align: middle;\n",
       "    }\n",
       "\n",
       "    .dataframe tbody tr th {\n",
       "        vertical-align: top;\n",
       "    }\n",
       "\n",
       "    .dataframe thead th {\n",
       "        text-align: right;\n",
       "    }\n",
       "</style>\n",
       "<table border=\"1\" class=\"dataframe\">\n",
       "  <thead>\n",
       "    <tr style=\"text-align: right;\">\n",
       "      <th></th>\n",
       "      <th>gender</th>\n",
       "      <th>race/ethnicity</th>\n",
       "      <th>parental level of education</th>\n",
       "      <th>lunch</th>\n",
       "      <th>test preparation course</th>\n",
       "      <th>math score</th>\n",
       "      <th>reading score</th>\n",
       "      <th>writing score</th>\n",
       "    </tr>\n",
       "  </thead>\n",
       "  <tbody>\n",
       "    <tr>\n",
       "      <th>count</th>\n",
       "      <td>1000</td>\n",
       "      <td>1000</td>\n",
       "      <td>1000</td>\n",
       "      <td>1000</td>\n",
       "      <td>1000</td>\n",
       "      <td>1000.00000</td>\n",
       "      <td>1000.000000</td>\n",
       "      <td>1000.000000</td>\n",
       "    </tr>\n",
       "    <tr>\n",
       "      <th>unique</th>\n",
       "      <td>2</td>\n",
       "      <td>5</td>\n",
       "      <td>6</td>\n",
       "      <td>2</td>\n",
       "      <td>2</td>\n",
       "      <td>NaN</td>\n",
       "      <td>NaN</td>\n",
       "      <td>NaN</td>\n",
       "    </tr>\n",
       "    <tr>\n",
       "      <th>top</th>\n",
       "      <td>female</td>\n",
       "      <td>group C</td>\n",
       "      <td>some college</td>\n",
       "      <td>standard</td>\n",
       "      <td>none</td>\n",
       "      <td>NaN</td>\n",
       "      <td>NaN</td>\n",
       "      <td>NaN</td>\n",
       "    </tr>\n",
       "    <tr>\n",
       "      <th>freq</th>\n",
       "      <td>518</td>\n",
       "      <td>319</td>\n",
       "      <td>226</td>\n",
       "      <td>645</td>\n",
       "      <td>642</td>\n",
       "      <td>NaN</td>\n",
       "      <td>NaN</td>\n",
       "      <td>NaN</td>\n",
       "    </tr>\n",
       "    <tr>\n",
       "      <th>mean</th>\n",
       "      <td>NaN</td>\n",
       "      <td>NaN</td>\n",
       "      <td>NaN</td>\n",
       "      <td>NaN</td>\n",
       "      <td>NaN</td>\n",
       "      <td>66.08900</td>\n",
       "      <td>69.169000</td>\n",
       "      <td>68.054000</td>\n",
       "    </tr>\n",
       "    <tr>\n",
       "      <th>std</th>\n",
       "      <td>NaN</td>\n",
       "      <td>NaN</td>\n",
       "      <td>NaN</td>\n",
       "      <td>NaN</td>\n",
       "      <td>NaN</td>\n",
       "      <td>15.16308</td>\n",
       "      <td>14.600192</td>\n",
       "      <td>15.195657</td>\n",
       "    </tr>\n",
       "    <tr>\n",
       "      <th>min</th>\n",
       "      <td>NaN</td>\n",
       "      <td>NaN</td>\n",
       "      <td>NaN</td>\n",
       "      <td>NaN</td>\n",
       "      <td>NaN</td>\n",
       "      <td>0.00000</td>\n",
       "      <td>17.000000</td>\n",
       "      <td>10.000000</td>\n",
       "    </tr>\n",
       "    <tr>\n",
       "      <th>25%</th>\n",
       "      <td>NaN</td>\n",
       "      <td>NaN</td>\n",
       "      <td>NaN</td>\n",
       "      <td>NaN</td>\n",
       "      <td>NaN</td>\n",
       "      <td>57.00000</td>\n",
       "      <td>59.000000</td>\n",
       "      <td>57.750000</td>\n",
       "    </tr>\n",
       "    <tr>\n",
       "      <th>50%</th>\n",
       "      <td>NaN</td>\n",
       "      <td>NaN</td>\n",
       "      <td>NaN</td>\n",
       "      <td>NaN</td>\n",
       "      <td>NaN</td>\n",
       "      <td>66.00000</td>\n",
       "      <td>70.000000</td>\n",
       "      <td>69.000000</td>\n",
       "    </tr>\n",
       "    <tr>\n",
       "      <th>75%</th>\n",
       "      <td>NaN</td>\n",
       "      <td>NaN</td>\n",
       "      <td>NaN</td>\n",
       "      <td>NaN</td>\n",
       "      <td>NaN</td>\n",
       "      <td>77.00000</td>\n",
       "      <td>79.000000</td>\n",
       "      <td>79.000000</td>\n",
       "    </tr>\n",
       "    <tr>\n",
       "      <th>max</th>\n",
       "      <td>NaN</td>\n",
       "      <td>NaN</td>\n",
       "      <td>NaN</td>\n",
       "      <td>NaN</td>\n",
       "      <td>NaN</td>\n",
       "      <td>100.00000</td>\n",
       "      <td>100.000000</td>\n",
       "      <td>100.000000</td>\n",
       "    </tr>\n",
       "  </tbody>\n",
       "</table>\n",
       "</div>"
      ],
      "text/plain": [
       "        gender race/ethnicity parental level of education     lunch  \\\n",
       "count     1000           1000                        1000      1000   \n",
       "unique       2              5                           6         2   \n",
       "top     female        group C                some college  standard   \n",
       "freq       518            319                         226       645   \n",
       "mean       NaN            NaN                         NaN       NaN   \n",
       "std        NaN            NaN                         NaN       NaN   \n",
       "min        NaN            NaN                         NaN       NaN   \n",
       "25%        NaN            NaN                         NaN       NaN   \n",
       "50%        NaN            NaN                         NaN       NaN   \n",
       "75%        NaN            NaN                         NaN       NaN   \n",
       "max        NaN            NaN                         NaN       NaN   \n",
       "\n",
       "       test preparation course  math score  reading score  writing score  \n",
       "count                     1000  1000.00000    1000.000000    1000.000000  \n",
       "unique                       2         NaN            NaN            NaN  \n",
       "top                       none         NaN            NaN            NaN  \n",
       "freq                       642         NaN            NaN            NaN  \n",
       "mean                       NaN    66.08900      69.169000      68.054000  \n",
       "std                        NaN    15.16308      14.600192      15.195657  \n",
       "min                        NaN     0.00000      17.000000      10.000000  \n",
       "25%                        NaN    57.00000      59.000000      57.750000  \n",
       "50%                        NaN    66.00000      70.000000      69.000000  \n",
       "75%                        NaN    77.00000      79.000000      79.000000  \n",
       "max                        NaN   100.00000     100.000000     100.000000  "
      ]
     },
     "execution_count": 7,
     "metadata": {},
     "output_type": "execute_result"
    }
   ],
   "source": [
    "student.describe(include='all')"
   ]
  },
  {
   "cell_type": "code",
   "execution_count": 11,
   "id": "ee86d5ef",
   "metadata": {},
   "outputs": [
    {
     "data": {
      "text/plain": [
       "gender  race/ethnicity\n",
       "female  group A            36\n",
       "        group B           104\n",
       "        group C           180\n",
       "        group D           129\n",
       "        group E            69\n",
       "male    group A            53\n",
       "        group B            86\n",
       "        group C           139\n",
       "        group D           133\n",
       "        group E            71\n",
       "Name: race/ethnicity, dtype: int64"
      ]
     },
     "metadata": {},
     "output_type": "display_data"
    },
    {
     "name": "stdout",
     "output_type": "stream",
     "text": [
      "female    518\n",
      "male      482\n",
      "Name: gender, dtype: int64\n"
     ]
    }
   ],
   "source": [
    "# 성별에 따른 race/ethincity 분포\n",
    "group = student.groupby('gender')['race/ethnicity'].value_counts().sort_index()\n",
    "display(group)\n",
    "print(student['gender'].value_counts())"
   ]
  },
  {
   "cell_type": "markdown",
   "id": "809d3292",
   "metadata": {},
   "source": [
    "## 2-1 Multiple Bar Plot"
   ]
  },
  {
   "cell_type": "code",
   "execution_count": 14,
   "id": "6b207109",
   "metadata": {},
   "outputs": [
    {
     "data": {
      "image/png": "[encoded data removed]",
      "text/plain": [
       "<Figure size 1080x504 with 2 Axes>"
      ]
     },
     "metadata": {
      "needs_background": "light"
     },
     "output_type": "display_data"
    }
   ],
   "source": [
    "fig, axes = plt.subplots(1, 2, figsize=(15, 7))\n",
    "axes[0].bar(group['male'].index, group['male'], color='royalblue')\n",
    "axes[1].bar(group['female'].index, group['female'], color='tomato')\n",
    "plt.show()"
   ]
  },
  {
   "cell_type": "code",
   "execution_count": 18,
   "id": "801ad61a",
   "metadata": {},
   "outputs": [
    {
     "data": {
      "image/png": "[encoded data removed]",
      "text/plain": [
       "<Figure size 1080x504 with 2 Axes>"
      ]
     },
     "metadata": {
      "needs_background": "light"
     },
     "output_type": "display_data"
    }
   ],
   "source": [
    "# (1) sharey 파라미터를 사용하여 y축의 범위를 공유할 수 있음 (범위 직접 지정 불가능)\n",
    "fig, axes = plt.subplots(1, 2, figsize=(15, 7), sharey=True)\n",
    "axes[0].bar(group['male'].index, group['male'], color='royalblue')\n",
    "axes[1].bar(group['female'].index, group['female'], color='tomato')\n",
    "\n",
    "# (2) set_ylim을 사용하여 axes에 있는 모든 plot의 y축 범위를 정해줄 수 있음\n",
    "for ax in axes:\n",
    "    ax.set_ylim(0, 200)\n",
    "\n",
    "plt.show()"
   ]
  },
  {
   "cell_type": "markdown",
   "id": "3effa85a",
   "metadata": {},
   "source": [
    "## 2-2 Stacked Bar Plot"
   ]
  },
  {
   "cell_type": "code",
   "execution_count": 24,
   "id": "03a8b068",
   "metadata": {},
   "outputs": [
    {
     "data": {
      "image/png": "[encoded data removed]",
      "text/plain": [
       "<Figure size 1080x504 with 2 Axes>"
      ]
     },
     "metadata": {
      "needs_background": "light"
     },
     "output_type": "display_data"
    }
   ],
   "source": [
    "fig, axes = plt.subplots(1, 2, figsize=(15, 7))\n",
    "\n",
    "group_cnt = student['race/ethnicity'].value_counts().sort_index()\n",
    "axes[0].bar(group_cnt.index, group_cnt, color='darkgray')\n",
    "\n",
    "axes[1].bar(group['male'].index, group['male'], color='royalblue')\n",
    "# bottom 파라미터를 사용해서 아래 공간을 설정할 수 있음\n",
    "axes[1].bar(group['female'].index, group['female'], bottom=group['male'], color='tomato')\n",
    "\n",
    "for ax in axes:\n",
    "    ax.set_ylim(0, 350)\n",
    "\n",
    "plt.show()"
   ]
  },
  {
   "cell_type": "markdown",
   "id": "6ed3fae4",
   "metadata": {},
   "source": [
    "## 2-3 Percentage Stacked Bar Plot"
   ]
  },
  {
   "cell_type": "code",
   "execution_count": 33,
   "id": "781a98d5",
   "metadata": {},
   "outputs": [
    {
     "name": "stdout",
     "output_type": "stream",
     "text": [
      "race/ethnicity\n",
      "group E    140\n",
      "group D    262\n",
      "group C    319\n",
      "group B    190\n",
      "group A     89\n",
      "Name: race/ethnicity, dtype: int64\n"
     ]
    },
    {
     "data": {
      "image/png": "[encoded data removed]",
      "text/plain": [
       "<Figure size 864x504 with 1 Axes>"
      ]
     },
     "metadata": {
      "needs_background": "light"
     },
     "output_type": "display_data"
    }
   ],
   "source": [
    "fig, ax = plt.subplots(1, 1, figsize=(12, 7))\n",
    "\n",
    "group = group.sort_index(ascending=False)    # 역순 정렬: 그룹이 위에서 부터 정렬 되도록\n",
    "total = group['male'] + group['female']      # 각 그룹별 합\n",
    "\n",
    "print(total)\n",
    "\n",
    "ax.barh(group['male'].index, group['male']/total, color='royalblue')\n",
    "ax.barh(group['female'].index, group['female']/total,\n",
    "       left=group['male']/total,\n",
    "       color='tomato')\n",
    "\n",
    "ax.set_xlim(0, 1)         # x축 범위 설정\n",
    "for s in ['top', 'bottom', 'left', 'right']:        # 상하좌우 테두리 없애기\n",
    "    ax.spines[s].set_visible(False)\n",
    "    \n",
    "plt.show()"
   ]
  },
  {
   "cell_type": "markdown",
   "id": "10e8244d",
   "metadata": {},
   "source": [
    "## 2-4 Overlapped Bar Plot"
   ]
  },
  {
   "cell_type": "code",
   "execution_count": 34,
   "id": "2a31e58b",
   "metadata": {},
   "outputs": [
    {
     "data": {
      "image/png": "[encoded data removed]",
      "text/plain": [
       "<Figure size 864x864 with 4 Axes>"
      ]
     },
     "metadata": {
      "needs_background": "light"
     },
     "output_type": "display_data"
    }
   ],
   "source": [
    "group = group.sort_index()    # 다시 정렬\n",
    "\n",
    "fig, axes = plt.subplots(2, 2, figsize=(12, 12))\n",
    "axes = axes.flatten()\n",
    "\n",
    "for idx, alpha in enumerate([1, .7, .5, .3]):        # 0.7 선호\n",
    "    axes[idx].bar(group['male'].index, group['male'], \n",
    "                  color='royalblue', \n",
    "                  alpha=alpha)    # alpha값 설정\n",
    "    axes[idx].bar(group['female'].index, group['female'], \n",
    "                  color='tomato', \n",
    "                  alpha=alpha)\n",
    "    axes[idx].set_title(f'Alpha = {alpha}')\n",
    "    \n",
    "for ax in axes:\n",
    "    ax.set_ylim(0, 200)\n",
    "    \n",
    "plt.show()"
   ]
  },
  {
   "cell_type": "markdown",
   "id": "d776acd5",
   "metadata": {},
   "source": [
    "## 2-5 Grouped Bar Plot"
   ]
  },
  {
   "cell_type": "markdown",
   "id": "b741eda9",
   "metadata": {},
   "source": [
    "```matplotlib```에서 구현하기 조금 까다로움  \n",
    "```matplotlib```에선 x축을 정해주고 그래프를 그리기 때문에 grouped bar plot을 그리려면\n",
    "* x축 조정\n",
    "* ```width``` 조정\n",
    "* ```xticks```, ```xticklabels``` 설정 \n",
    "\n",
    "을 해줘야함  \n",
    "\n",
    "예를 들어 원래 x축이 0, 1, 2, 3로 시작한다면\n",
    "* 한 그래프는 0-width 2, 1-width/2, 2-width/2 로 구성하면 되고,\n",
    "* 한 그래프는 0+width/2, 1+width/2, 2+width/2 로 구성하면 됨"
   ]
  },
  {
   "cell_type": "code",
   "execution_count": 40,
   "id": "00d45205",
   "metadata": {},
   "outputs": [
    {
     "data": {
      "image/png": "[encoded data removed]",
      "text/plain": [
       "<Figure size 864x504 with 1 Axes>"
      ]
     },
     "metadata": {
      "needs_background": "light"
     },
     "output_type": "display_data"
    }
   ],
   "source": [
    "fig, ax = plt.subplots(1, 1, figsize=(12, 7))\n",
    "\n",
    "idx = np.arange(len(group['male'].index))\n",
    "width = .35\n",
    "\n",
    "ax.bar(idx-width/2, group['male'],\n",
    "      color='royalblue',\n",
    "      width=width, label='Male')\n",
    "ax.bar(idx+width/2, group['female'],\n",
    "      color='tomato',\n",
    "      width=width, label='Female')\n",
    "\n",
    "ax.set_xticks(idx)\n",
    "ax.set_xticklabels(group['male'].index)\n",
    "ax.legend()\n",
    "\n",
    "plt.show()"
   ]
  },
  {
   "cell_type": "markdown",
   "id": "35ee97bf",
   "metadata": {},
   "source": [
    "그룹이 N개 일때 x 좌표는 다음과 같다:  \n",
    "* 2개: -1/2, +1/2  \n",
    "* 3개: -2/2, 0, +2/2  \n",
    "* 4개: -3/2, -1/2, +1/2, +3/2  \n",
    "\n",
    "즉, index i(zero-index)에 대해서는 다음과 같이 x좌표를 계산할 수 있다.  \n",
    "* $x+{{-N+1+2\\times i} \\over {2}} \\times width$"
   ]
  },
  {
   "cell_type": "code",
   "execution_count": 57,
   "id": "f5f89c10",
   "metadata": {},
   "outputs": [
    {
     "data": {
      "text/plain": [
       "race/ethnicity\n",
       "group A    18\n",
       "group B    48\n",
       "group C    64\n",
       "group D    44\n",
       "group E    22\n",
       "Name: race/ethnicity, dtype: int64"
      ]
     },
     "execution_count": 57,
     "metadata": {},
     "output_type": "execute_result"
    }
   ],
   "source": [
    "group = student.groupby('parental level of education')['race/ethnicity'].value_counts().sort_index()\n",
    "group_list = sorted(student['race/ethnicity'].unique())\n",
    "edu_lv = student['parental level of education'].unique()\n",
    "group['high school']"
   ]
  },
  {
   "cell_type": "code",
   "execution_count": 54,
   "id": "3e81f213",
   "metadata": {},
   "outputs": [
    {
     "data": {
      "image/png": "[encoded data removed]",
      "text/plain": [
       "<Figure size 936x504 with 1 Axes>"
      ]
     },
     "metadata": {
      "needs_background": "light"
     },
     "output_type": "display_data"
    }
   ],
   "source": [
    "fig, ax = plt.subplots(1, 1, figsize=(13, 7))\n",
    "\n",
    "x = np.arange(len(group_list))\n",
    "width = .12\n",
    "\n",
    "for idx, g in enumerate(edu_lv):\n",
    "    ax.bar(x+(-len(edu_lv)+1+2*idx)*width/2, group[g],\n",
    "          width=width, label=g)\n",
    "    \n",
    "ax.set_xticks(x)\n",
    "ax.set_xticklabels(group_list)\n",
    "ax.legend()\n",
    "\n",
    "plt.show()"
   ]
  },
  {
   "cell_type": "markdown",
   "id": "301343b2",
   "metadata": {},
   "source": [
    "## 3-1 Principle of Proportion Ink"
   ]
  },
  {
   "cell_type": "code",
   "execution_count": 60,
   "id": "7e7be491",
   "metadata": {},
   "outputs": [
    {
     "data": {
      "text/html": [
       "<div>\n",
       "<style scoped>\n",
       "    .dataframe tbody tr th:only-of-type {\n",
       "        vertical-align: middle;\n",
       "    }\n",
       "\n",
       "    .dataframe tbody tr th {\n",
       "        vertical-align: top;\n",
       "    }\n",
       "\n",
       "    .dataframe thead th {\n",
       "        text-align: right;\n",
       "    }\n",
       "</style>\n",
       "<table border=\"1\" class=\"dataframe\">\n",
       "  <thead>\n",
       "    <tr style=\"text-align: right;\">\n",
       "      <th>gender</th>\n",
       "      <th>female</th>\n",
       "      <th>male</th>\n",
       "    </tr>\n",
       "  </thead>\n",
       "  <tbody>\n",
       "    <tr>\n",
       "      <th>math score</th>\n",
       "      <td>63.633205</td>\n",
       "      <td>68.728216</td>\n",
       "    </tr>\n",
       "    <tr>\n",
       "      <th>reading score</th>\n",
       "      <td>72.608108</td>\n",
       "      <td>65.473029</td>\n",
       "    </tr>\n",
       "    <tr>\n",
       "      <th>writing score</th>\n",
       "      <td>72.467181</td>\n",
       "      <td>63.311203</td>\n",
       "    </tr>\n",
       "  </tbody>\n",
       "</table>\n",
       "</div>"
      ],
      "text/plain": [
       "gender            female       male\n",
       "math score     63.633205  68.728216\n",
       "reading score  72.608108  65.473029\n",
       "writing score  72.467181  63.311203"
      ]
     },
     "execution_count": 60,
     "metadata": {},
     "output_type": "execute_result"
    }
   ],
   "source": [
    "score = student.groupby('gender').mean().T\n",
    "score"
   ]
  },
  {
   "cell_type": "code",
   "execution_count": 62,
   "id": "ca169f8d",
   "metadata": {},
   "outputs": [
    {
     "data": {
      "image/png": "[encoded data removed]",
      "text/plain": [
       "<Figure size 1080x504 with 2 Axes>"
      ]
     },
     "metadata": {
      "needs_background": "light"
     },
     "output_type": "display_data"
    }
   ],
   "source": [
    "fig, axes = plt.subplots(1, 2, figsize=(15, 7))\n",
    "\n",
    "idx = np.arange(len(score.index))\n",
    "width = .3\n",
    "\n",
    "for ax in axes:\n",
    "    ax.bar(idx-width/2, score['male'],\n",
    "          color='royalblue',\n",
    "          width=width, label='Male')\n",
    "    ax.bar(idx+width/2, score['female'],\n",
    "          color='tomato',\n",
    "          width=width, label='Female')\n",
    "    \n",
    "    ax.set_xticks(idx)\n",
    "    ax.set_xticklabels(score.index)\n",
    "    ax.legend()\n",
    "    \n",
    "axes[0].set_ylim(60, 75)\n",
    "\n",
    "plt.show()\n",
    "\n",
    "# 좌측 그래프는 정확한 수치를 표현하지 못한다. 되도록이면 오른쪽 그래프처럼 정확한 수치를 표현하자\n",
    "# 공간이 안된다면 figsize를 위아래로 길게 해서 그래프를 그리자"
   ]
  },
  {
   "cell_type": "markdown",
   "id": "1ab15390",
   "metadata": {},
   "source": [
    "## 3-2 데이터 정렬하기"
   ]
  },
  {
   "cell_type": "code",
   "execution_count": 63,
   "id": "07e86c2f",
   "metadata": {},
   "outputs": [
    {
     "data": {
      "text/html": [
       "<div>\n",
       "<style scoped>\n",
       "    .dataframe tbody tr th:only-of-type {\n",
       "        vertical-align: middle;\n",
       "    }\n",
       "\n",
       "    .dataframe tbody tr th {\n",
       "        vertical-align: top;\n",
       "    }\n",
       "\n",
       "    .dataframe thead th {\n",
       "        text-align: right;\n",
       "    }\n",
       "</style>\n",
       "<table border=\"1\" class=\"dataframe\">\n",
       "  <thead>\n",
       "    <tr style=\"text-align: right;\">\n",
       "      <th></th>\n",
       "      <th>gender</th>\n",
       "      <th>race/ethnicity</th>\n",
       "      <th>parental level of education</th>\n",
       "      <th>lunch</th>\n",
       "      <th>test preparation course</th>\n",
       "      <th>math score</th>\n",
       "      <th>reading score</th>\n",
       "      <th>writing score</th>\n",
       "    </tr>\n",
       "  </thead>\n",
       "  <tbody>\n",
       "    <tr>\n",
       "      <th>0</th>\n",
       "      <td>female</td>\n",
       "      <td>group B</td>\n",
       "      <td>bachelor's degree</td>\n",
       "      <td>standard</td>\n",
       "      <td>none</td>\n",
       "      <td>72</td>\n",
       "      <td>72</td>\n",
       "      <td>74</td>\n",
       "    </tr>\n",
       "    <tr>\n",
       "      <th>1</th>\n",
       "      <td>female</td>\n",
       "      <td>group C</td>\n",
       "      <td>some college</td>\n",
       "      <td>standard</td>\n",
       "      <td>completed</td>\n",
       "      <td>69</td>\n",
       "      <td>90</td>\n",
       "      <td>88</td>\n",
       "    </tr>\n",
       "    <tr>\n",
       "      <th>2</th>\n",
       "      <td>female</td>\n",
       "      <td>group B</td>\n",
       "      <td>master's degree</td>\n",
       "      <td>standard</td>\n",
       "      <td>none</td>\n",
       "      <td>90</td>\n",
       "      <td>95</td>\n",
       "      <td>93</td>\n",
       "    </tr>\n",
       "    <tr>\n",
       "      <th>3</th>\n",
       "      <td>male</td>\n",
       "      <td>group A</td>\n",
       "      <td>associate's degree</td>\n",
       "      <td>free/reduced</td>\n",
       "      <td>none</td>\n",
       "      <td>47</td>\n",
       "      <td>57</td>\n",
       "      <td>44</td>\n",
       "    </tr>\n",
       "    <tr>\n",
       "      <th>4</th>\n",
       "      <td>male</td>\n",
       "      <td>group C</td>\n",
       "      <td>some college</td>\n",
       "      <td>standard</td>\n",
       "      <td>none</td>\n",
       "      <td>76</td>\n",
       "      <td>78</td>\n",
       "      <td>75</td>\n",
       "    </tr>\n",
       "  </tbody>\n",
       "</table>\n",
       "</div>"
      ],
      "text/plain": [
       "   gender race/ethnicity parental level of education         lunch  \\\n",
       "0  female        group B           bachelor's degree      standard   \n",
       "1  female        group C                some college      standard   \n",
       "2  female        group B             master's degree      standard   \n",
       "3    male        group A          associate's degree  free/reduced   \n",
       "4    male        group C                some college      standard   \n",
       "\n",
       "  test preparation course  math score  reading score  writing score  \n",
       "0                    none          72             72             74  \n",
       "1               completed          69             90             88  \n",
       "2                    none          90             95             93  \n",
       "3                    none          47             57             44  \n",
       "4                    none          76             78             75  "
      ]
     },
     "execution_count": 63,
     "metadata": {},
     "output_type": "execute_result"
    }
   ],
   "source": [
    "student.head()"
   ]
  },
  {
   "cell_type": "markdown",
   "id": "e07c438a",
   "metadata": {},
   "source": [
    "## 3-3 적절한 공간 활용\n"
   ]
  },
  {
   "cell_type": "code",
   "execution_count": 64,
   "id": "74f2829b",
   "metadata": {},
   "outputs": [
    {
     "data": {
      "text/plain": [
       "group A     89\n",
       "group B    190\n",
       "group C    319\n",
       "group D    262\n",
       "group E    140\n",
       "Name: race/ethnicity, dtype: int64"
      ]
     },
     "execution_count": 64,
     "metadata": {},
     "output_type": "execute_result"
    }
   ],
   "source": [
    "group_cnt = student['race/ethnicity'].value_counts().sort_index()\n",
    "group_cnt"
   ]
  },
  {
   "cell_type": "code",
   "execution_count": 69,
   "id": "1f174c8a",
   "metadata": {},
   "outputs": [
    {
     "data": {
      "image/png": "[encoded data removed]",
      "text/plain": [
       "<Figure size 1080x504 with 2 Axes>"
      ]
     },
     "metadata": {
      "needs_background": "light"
     },
     "output_type": "display_data"
    }
   ],
   "source": [
    "fig = plt.figure(figsize=(15, 7))\n",
    "ax_basic = fig.add_subplot(1, 2, 1)\n",
    "ax = fig.add_subplot(1, 2, 2)\n",
    "\n",
    "ax_basic.bar(group_cnt.index, group_cnt)    # 꾸미지 않은 것\n",
    "\n",
    "ax.bar(group_cnt.index, group_cnt,\n",
    "      width=.7,\n",
    "      edgecolor='black',          # 각 막대 테두리 색\n",
    "      linewidth=2,\n",
    "      color='royalblue')\n",
    "ax.margins(.1, .1)                # 양쪽 마진\n",
    "for s in ['top', 'right']:\n",
    "    ax.spines[s].set_visible(False)\n",
    "\n",
    "plt.show()"
   ]
  },
  {
   "cell_type": "markdown",
   "id": "93db2034",
   "metadata": {},
   "source": [
    "## 3-4 그리드 추가"
   ]
  },
  {
   "cell_type": "code",
   "execution_count": 73,
   "id": "87e25160",
   "metadata": {},
   "outputs": [
    {
     "data": {
      "image/png": "[encoded data removed]",
      "text/plain": [
       "<Figure size 1080x504 with 2 Axes>"
      ]
     },
     "metadata": {
      "needs_background": "light"
     },
     "output_type": "display_data"
    }
   ],
   "source": [
    "group_cnt = student['race/ethnicity'].value_counts().sort_index()\n",
    "\n",
    "fig, axes = plt.subplots(1, 2, figsize=(15, 7))\n",
    "\n",
    "for ax in axes:\n",
    "    ax.bar(group_cnt.index, group_cnt,\n",
    "      width=.7,\n",
    "      edgecolor='black',\n",
    "      linewidth=2,\n",
    "      color='royalblue',\n",
    "      zorder=10)\n",
    "    \n",
    "    ax.margins(.1, .1)\n",
    "    \n",
    "    for s in ['top', 'right']:\n",
    "        ax.spines[s].set_visible(False)\n",
    "        \n",
    "axes[1].grid(zorder=0)    # 그리드 추가\n",
    "\n",
    "for idx, value in zip(group_cnt.index, group_cnt):\n",
    "    axes[1].text(idx, value+5, s=value,\n",
    "                ha='center',\n",
    "                fontweight='bold')\n",
    "        \n",
    "plt.show()"
   ]
  },
  {
   "cell_type": "markdown",
   "id": "974ea2a5",
   "metadata": {},
   "source": [
    "## 3-5 ETC 오차막대 사용"
   ]
  },
  {
   "cell_type": "code",
   "execution_count": 74,
   "id": "4fc673a9",
   "metadata": {},
   "outputs": [
    {
     "data": {
      "text/html": [
       "<div>\n",
       "<style scoped>\n",
       "    .dataframe tbody tr th:only-of-type {\n",
       "        vertical-align: middle;\n",
       "    }\n",
       "\n",
       "    .dataframe tbody tr th {\n",
       "        vertical-align: top;\n",
       "    }\n",
       "\n",
       "    .dataframe thead th {\n",
       "        text-align: right;\n",
       "    }\n",
       "</style>\n",
       "<table border=\"1\" class=\"dataframe\">\n",
       "  <thead>\n",
       "    <tr style=\"text-align: right;\">\n",
       "      <th>gender</th>\n",
       "      <th>female</th>\n",
       "      <th>male</th>\n",
       "    </tr>\n",
       "  </thead>\n",
       "  <tbody>\n",
       "    <tr>\n",
       "      <th>math score</th>\n",
       "      <td>15.491453</td>\n",
       "      <td>14.356277</td>\n",
       "    </tr>\n",
       "    <tr>\n",
       "      <th>reading score</th>\n",
       "      <td>14.378245</td>\n",
       "      <td>13.931832</td>\n",
       "    </tr>\n",
       "    <tr>\n",
       "      <th>writing score</th>\n",
       "      <td>14.844842</td>\n",
       "      <td>14.113832</td>\n",
       "    </tr>\n",
       "  </tbody>\n",
       "</table>\n",
       "</div>"
      ],
      "text/plain": [
       "gender            female       male\n",
       "math score     15.491453  14.356277\n",
       "reading score  14.378245  13.931832\n",
       "writing score  14.844842  14.113832"
      ]
     },
     "execution_count": 74,
     "metadata": {},
     "output_type": "execute_result"
    }
   ],
   "source": [
    "score_var = student.groupby('gender').std().T\n",
    "score_var"
   ]
  },
  {
   "cell_type": "code",
   "execution_count": 79,
   "id": "0e367611",
   "metadata": {},
   "outputs": [
    {
     "data": {
      "image/png": "[encoded data removed]",
      "text/plain": [
       "<Figure size 720x720 with 1 Axes>"
      ]
     },
     "metadata": {
      "needs_background": "light"
     },
     "output_type": "display_data"
    }
   ],
   "source": [
    "fig, ax = plt.subplots(1, 1, figsize=(10, 10))\n",
    "\n",
    "idx = np.arange(len(score.index))\n",
    "width = .3\n",
    "\n",
    "ax.bar(idx-width/2, score['male'],\n",
    "      color='royalblue',\n",
    "      width=width,\n",
    "      label='Male',\n",
    "      yerr=score_var['male'],    # y축 범위로 에러 표현\n",
    "      capsize=10)                # 범위 표현\n",
    "\n",
    "ax.bar(idx+width/2, score['female'],\n",
    "      color='tomato',\n",
    "      width=width,\n",
    "      label='Female',\n",
    "      yerr=score_var['female'],  # y축 범위로 에러 표현\n",
    "      capsize=10)                # 범위 표현\n",
    "\n",
    "ax.set_xticks(idx)\n",
    "ax.set_xticklabels(score.index)\n",
    "ax.set_ylim(0, 100)\n",
    "ax.spines['top'].set_visible(False)\n",
    "ax.spines['right'].set_visible(False)\n",
    "\n",
    "ax.legend()\n",
    "ax.set_title('Gender / Score', fontsize=20)\n",
    "ax.set_xlabel('subject', fontweight='bold', fontsize=13)\n",
    "ax.set_ylabel('score', fontweight='bold', fontsize=13)\n",
    "\n",
    "plt.show()"
   ]
  }
 ],
 "metadata": {
  "kernelspec": {
   "display_name": "Python 3",
   "language": "python",
   "name": "python3"
  },
  "language_info": {
   "codemirror_mode": {
    "name": "ipython",
    "version": 3
   },
   "file_extension": ".py",
   "mimetype": "text/x-python",
   "name": "python",
   "nbconvert_exporter": "python",
   "pygments_lexer": "ipython3",
   "version": "3.8.8"
  }
 },
 "nbformat": 4,
 "nbformat_minor": 5
}
